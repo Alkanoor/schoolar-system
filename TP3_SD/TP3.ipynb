{
 "cells": [
  {
   "cell_type": "code",
   "execution_count": 3,
   "metadata": {
    "collapsed": false
   },
   "outputs": [],
   "source": [
    "import sys\n",
    "sys.path.append(\"../scikit-learn\")"
   ]
  },
  {
   "cell_type": "markdown",
   "metadata": {
    "collapsed": true
   },
   "source": [
    "**<u>Question 1<u/>**<br/>\n",
    "&nbsp;&nbsp;&nbsp;&nbsp;&nbsp;Pour des données linéairement séparables, le paramètre C n'influence pas du tout le résultat dans le cas d'un noyau linéaire, résultat sans erreur par ailleurs d'après la construction du modèle. Dans le cas d'un noyau gaussien, il n'y a pas non plus d'erreur même si la frontière est moins \"naturelle\". Pour des données unimodales séparables, on a le même résultat, et le noyau gaussien s'adapte bien à un nuage gaussien de points. Lorsque les données sont non séparables le paramètre C influence légèrement l'orientation de l'hyperplan séparateur dans le cas linéaire (le taux de reconnaissance reste assez élevé), dans le cas gaussien la frontière est susceptible de changer assez fortement. Dans le cas gaussien, le paramètre gamma a un très gros effet sur la frontière : lorsque gamma est mal choisi, on a soit un modèle avec énormément d'erreur qui est beaucoup trop \"simple\" (quand gamma trop petit), soit un modèle beaucoup trop précis avec une frontière formée autour de quelques ilôts minuscules (quand gamma trop grand)."
   ]
  },
  {
   "cell_type": "markdown",
   "metadata": {
    "collapsed": true
   },
   "source": [
    "**<u>Question 2<u/>**<br/>\n",
    "&nbsp;&nbsp;&nbsp;&nbsp;&nbsp;Les 3 zones d'intérêt sont : à l'extérieur du support, du côté où la classe du point est majoritaire (A), à l'intérieur de la marge (B), et à l'extérieur du support, de \"l'autre côté\" (C). Lorsqu'on ajoute un point dans la zone A, il ne se passe rien : la frontière reste identique ($\\alpha_i=0$). Lorsqu'on ajoute un point dans la zone B, la marge change et le point devient un support, $\\alpha_i\\neq0$. Lorsqu'on ajoute un point dans la zone C, la marge change également, le point devient aussi un support, $\\alpha_i\\neq0$."
   ]
  },
  {
   "cell_type": "markdown",
   "metadata": {},
   "source": [
    "**<u>Question 3<u/>**<br/>\n",
    "&nbsp;&nbsp;&nbsp;&nbsp;&nbsp;Lorsqu'on déséquilibre fortement les données et que C devient trop petit, la frontière devient incorrecte car les points en minorité sont inclus dans la zone de décision des points de classe majoritaire. Cela est du au fait que l'attache au données devient trop faible et que le terme $||w||^2$ l'emporte dans la minimisation : la direction de la frontière reste la même mais l'offset change, ce qui rend la frontière mauvaise."
   ]
  },
  {
   "cell_type": "code",
   "execution_count": 4,
   "metadata": {
    "collapsed": false,
    "scrolled": false
   },
   "outputs": [],
   "source": [
    "import matplotlib.pyplot as plt\n",
    "import utils\n",
    "import numpy as np\n",
    "%matplotlib inline"
   ]
  },
  {
   "cell_type": "code",
   "execution_count": 5,
   "metadata": {
    "collapsed": false
   },
   "outputs": [
    {
     "name": "stdout",
     "output_type": "stream",
     "text": [
      "Mean score for c = 1 : 0.78\n"
     ]
    },
    {
     "data": {
      "image/png": "[encoded data removed]",
      "text/plain": [
       "<matplotlib.figure.Figure at 0x7f32f0bbc750>"
      ]
     },
     "metadata": {},
     "output_type": "display_data"
    }
   ],
   "source": [
    "from sklearn.cross_validation import cross_val_score\n",
    "from sklearn.utils import shuffle\n",
    "from sklearn import datasets\n",
    "from sklearn import svm\n",
    "\n",
    "iris = datasets.load_iris()\n",
    "X, y = shuffle(iris.data[:,:2], iris.target, random_state=0)\n",
    "mean, std = X.mean(axis=0), X.std(axis=0)\n",
    "X = (X - mean) / std\n",
    "X[np.isnan(X)] = 0\n",
    "\n",
    "clf = svm.SVC()\n",
    "clf.fit(X, y)\n",
    "scores = cross_val_score(clf, X, y, cv=5)\n",
    "print(\"Mean score for c = 1 : \"+str(scores.mean()))\n",
    "utils.plot_2d(X,y)\n",
    "utils.frontiere(clf.predict,X)"
   ]
  },
  {
   "cell_type": "code",
   "execution_count": 6,
   "metadata": {
    "collapsed": false
   },
   "outputs": [
    {
     "name": "stdout",
     "output_type": "stream",
     "text": [
      "Mean score for C = 1.5e-05 : 0.400714285714\n",
      "Mean score for C = 0.00015 : 0.400714285714\n",
      "Mean score for C = 0.0015 : 0.400714285714\n",
      "Mean score for C = 0.015 : 0.400714285714\n",
      "Mean score for C = 0.15 : 0.680357142857\n",
      "Mean score for C = 1.5 : 0.737261904762\n",
      "Mean score for C = 15.0 : 0.697261904762\n",
      "Mean score for C = 150.0 : 0.670476190476\n",
      "Mean score for C = 1500.0 : 0.60369047619\n",
      "Mean score for C = 15000.0 : 0.641904761905\n",
      "Mean score for C = 150000.0 : 0.617857142857\n",
      "Max score reached in linear kernel for C=1.5\n",
      "\n",
      "Mean score for polynomial kernel d = 1 : 0.74880952381\n",
      "Mean score for polynomial kernel d = 2 : 0.549404761905\n",
      "Mean score for polynomial kernel d = 3 : 0.655238095238\n",
      "Mean score for polynomial kernel d = 4 : 0.547619047619\n",
      "Mean score for polynomial kernel d = 5 : 0.641071428571\n",
      "Mean score for polynomial kernel d = 6 : 0.534285714286\n",
      "Mean score for polynomial kernel d = 7 : 0.614404761905\n",
      "Mean score for polynomial kernel d = 8 : 0.520952380952\n",
      "Mean score for polynomial kernel d = 9 : 0.588571428571\n",
      "Max score reached in polynomial kernel for d=1\n"
     ]
    }
   ],
   "source": [
    "X2 = X[:len(X)//2,:]\n",
    "y2 = y[:len(y)//2]\n",
    "X3 = X[len(X)//2:,:]\n",
    "y3 = y[len(y)//2:]\n",
    "\n",
    "C = 0.000015\n",
    "M = 0\n",
    "for c in range(11):\n",
    "    clf = svm.SVC(C=C)\n",
    "    clf.fit(X2, y2)\n",
    "    scores = cross_val_score(clf, X2, y2, cv=5)\n",
    "    m = scores.mean()\n",
    "    print(\"Mean score for C = \"+str(C)+\" : \"+str(m))\n",
    "    if m>M:\n",
    "        M = m\n",
    "        c_final = C\n",
    "    C = C*10\n",
    "\n",
    "print(\"Max score reached in linear kernel for C=\"+str(c_final))\n",
    "print('')\n",
    "\n",
    "m = 0\n",
    "for d in range(1,10):\n",
    "    clf = svm.SVC(degree=d,kernel='poly')\n",
    "    clf.fit(X2, y2)\n",
    "    scores = cross_val_score(clf, X2, y2, cv=5)\n",
    "    m = scores.mean()\n",
    "    print(\"Mean score for polynomial kernel d = \"+str(d)+\" : \"+str(m))\n",
    "    if m>M:\n",
    "        M = m\n",
    "        d_final = d\n",
    "\n",
    "print(\"Max score reached in polynomial kernel for d=\"+str(d_final))"
   ]
  },
  {
   "cell_type": "code",
   "execution_count": null,
   "metadata": {
    "collapsed": false
   },
   "outputs": [],
   "source": [
    "import numpy as np\n",
    "import matplotlib.pyplot as plt\n",
    "from matplotlib.colors import Normalize\n",
    "\n",
    "from sklearn.svm import SVC\n",
    "from sklearn.preprocessing import StandardScaler\n",
    "from sklearn.datasets import load_iris\n",
    "from sklearn.cross_validation import StratifiedShuffleSplit\n",
    "from sklearn.grid_search import GridSearchCV\n",
    "\n",
    "\n",
    "##############################################################################\n",
    "# Load and prepare data set\n",
    "#\n",
    "# dataset for grid search\n",
    "\n",
    "iris = load_iris()\n",
    "X = iris.data\n",
    "y = iris.target\n",
    "\n",
    "# Dataset for decision function visualization: we only keep the first two\n",
    "# features in X and sub-sample the dataset to keep only 2 classes and\n",
    "# make it a binary classification problem.\n",
    "\n",
    "X_2d = X[:, :2]\n",
    "X_2d = X_2d[y > 0]\n",
    "y_2d = y[y > 0]\n",
    "y_2d -= 1\n",
    "\n",
    "# It is usually a good idea to scale the data for SVM training.\n",
    "# We are cheating a bit in this example in scaling all of the data,\n",
    "# instead of fitting the transformation on the training set and\n",
    "# just applying it on the test set.\n",
    "\n",
    "scaler = StandardScaler()\n",
    "X = scaler.fit_transform(X)\n",
    "X_2d = scaler.fit_transform(X_2d)\n",
    "\n",
    "##############################################################################\n",
    "# Train classifiers\n",
    "#\n",
    "# For an initial search, a logarithmic grid with basis\n",
    "# 10 is often helpful. Using a basis of 2, a finer\n",
    "# tuning can be achieved but at a much higher cost.\n",
    "\n",
    "C_range = np.logspace(start=0, stop=12, base=2)\n",
    "gamma_range = np.logspace(start=-8, stop=4, base=2)\n",
    "param_grid = dict(gamma=gamma_range, C=C_range)\n",
    "cv = StratifiedShuffleSplit(y, n_iter=5, test_size=0.2, random_state=42)\n",
    "grid = GridSearchCV(SVC(), param_grid=param_grid, cv=cv)\n",
    "grid.fit(X, y)\n",
    "\n",
    "print(\"The best parameters are %s with a score of %0.2f\"\n",
    "      % (grid.best_params_, grid.best_score_))\n",
    "\n",
    "# Now we need to fit a classifier for all parameters in the 2d version\n",
    "# (we use a smaller set of parameters here because it takes a while to train)\n",
    "\n",
    "C_2d_range = [1e-2, 1, 1e2]\n",
    "gamma_2d_range = [1e-1, 1, 1e1]\n",
    "classifiers = []\n",
    "for C in C_2d_range:\n",
    "    for gamma in gamma_2d_range:\n",
    "        clf = SVC(C=C, gamma=gamma)\n",
    "        clf.fit(X_2d, y_2d)\n",
    "        classifiers.append((C, gamma, clf))\n",
    "\n",
    "##############################################################################\n",
    "# visualization\n",
    "#\n",
    "# draw visualization of parameter effects\n",
    "\n",
    "plt.figure(figsize=(8, 6))\n",
    "xx, yy = np.meshgrid(np.linspace(-3, 3, 200), np.linspace(-3, 3, 200))\n",
    "for (k, (C, gamma, clf)) in enumerate(classifiers):\n",
    "    # evaluate decision function in a grid\n",
    "    Z = clf.decision_function(np.c_[xx.ravel(), yy.ravel()])\n",
    "    Z = Z.reshape(xx.shape)\n",
    "\n",
    "    # visualize decision function for these parameters\n",
    "    plt.subplot(len(C_2d_range), len(gamma_2d_range), k + 1)\n",
    "    plt.title(\"gamma=10^%d, C=10^%d\" % (np.log10(gamma), np.log10(C)),\n",
    "              size='medium')\n",
    "\n",
    "    # visualize parameter's effect on decision function\n",
    "    plt.pcolormesh(xx, yy, -Z, cmap=plt.cm.RdBu)\n",
    "    plt.scatter(X_2d[:, 0], X_2d[:, 1], c=y_2d, cmap=plt.cm.RdBu_r)\n",
    "    plt.xticks(())\n",
    "    plt.yticks(())\n",
    "    plt.axis('tight')\n",
    "\n",
    "# plot the scores of the grid\n",
    "# grid_scores_ contains parameter settings and scores\n",
    "# We extract just the scores\n",
    "scores = [x[1] for x in grid.grid_scores_]\n",
    "scores = np.array(scores).reshape(len(C_range), len(gamma_range))\n",
    "\n",
    "# Draw heatmap of the validation accuracy as a function of gamma and C\n",
    "#\n",
    "# The score are encoded as colors with the hot colormap which varies from dark\n",
    "# red to bright yellow. As the most interesting scores are all located in the\n",
    "# 0.92 to 0.97 range we use a custom normalizer to set the mid-point to 0.92 so\n",
    "# as to make it easier to visualize the small variations of score values in the\n",
    "# interesting range while not brutally collapsing all the low score values to\n",
    "# the same color.\n",
    "\n",
    "plt.figure(figsize=(8, 6))\n",
    "plt.subplots_adjust(left=.2, right=1, bottom=0.15, top=1)\n",
    "plt.imshow(scores, interpolation='nearest', cmap=plt.cm.hot)\n",
    "plt.xlabel('gamma')\n",
    "plt.ylabel('C')\n",
    "plt.colorbar()\n",
    "plt.xticks(np.arange(len(gamma_range)), gamma_range, rotation=45)\n",
    "plt.yticks(np.arange(len(C_range)), C_range)\n",
    "plt.title('Validation accuracy')\n",
    "plt.show()"
   ]
  },
  {
   "cell_type": "code",
   "execution_count": null,
   "metadata": {
    "collapsed": true
   },
   "outputs": [],
   "source": []
  },
  {
   "cell_type": "code",
   "execution_count": null,
   "metadata": {
    "collapsed": true
   },
   "outputs": [],
   "source": []
  }
 ],
 "metadata": {
  "kernelspec": {
   "display_name": "Python 2",
   "language": "python",
   "name": "python2"
  },
  "language_info": {
   "codemirror_mode": {
    "name": "ipython",
    "version": 2
   },
   "file_extension": ".py",
   "mimetype": "text/x-python",
   "name": "python",
   "nbconvert_exporter": "python",
   "pygments_lexer": "ipython2",
   "version": "2.7.11"
  }
 },
 "nbformat": 4,
 "nbformat_minor": 0
}
